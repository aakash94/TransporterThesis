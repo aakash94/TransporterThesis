{
 "cells": [
  {
   "cell_type": "code",
   "execution_count": 1,
   "id": "c5e610a8-af39-45ba-96fe-bf5035abaa36",
   "metadata": {},
   "outputs": [
    {
     "name": "stderr",
     "output_type": "stream",
     "text": [
      "C:\\Users\\Aakash\\.conda\\envs\\e8\\lib\\site-packages\\gym\\envs\\registration.py:423: UserWarning: \u001b[33mWARN: Custom namespace `ALE` is being overridden by namespace `ALE`. If you are developing a plugin you shouldn't specify a namespace in `register` calls. The namespace is specified through the entry point package metadata.\u001b[0m\n",
      "  logger.warn(\n"
     ]
    }
   ],
   "source": [
    "from Trainer import Trainer"
   ]
  },
  {
   "cell_type": "code",
   "execution_count": null,
   "id": "7c59a88d-06fc-4730-99c3-e03cdb4fa35b",
   "metadata": {},
   "outputs": [],
   "source": [
    "atari_env = False\n",
    "total_timesteps = 3000000\n",
    "eval_count = 10\n",
    "frame_stack_count = 4\n",
    "motion = False\n",
    "transporter = True\n",
    "\n",
    "if motion:\n",
    "    # because not more than 2 frames are used.\n",
    "    frame_stack_count = 2\n",
    "\n",
    "    "
   ]
  },
  {
   "cell_type": "code",
   "execution_count": null,
   "id": "9a11b38f-24d9-4d44-8d1c-a6a71cbde20c",
   "metadata": {},
   "outputs": [],
   "source": [
    "frame_stack_count = 1\n",
    "motion = False\n",
    "transporter = False\n",
    "\n",
    "if motion:\n",
    "    # because not more than 2 frames are used.\n",
    "    frame_stack_count = 2\n",
    "    \n",
    "t = Trainer(atari_env=atari_env, frame_stack_count=frame_stack_count, motion=motion, transporter=transporter)\n",
    "print(\"All Set\")\n",
    "t.evaluate(n_eval_episodes=eval_count)\n",
    "t.train(total_timesteps=total_timesteps)\n",
    "print(\"Done Training\")\n",
    "t.evaluate(n_eval_episodes=eval_count)\n",
    "t.save_model()\n",
    "# t.demonstrate()\n",
    "t.load_model()\n",
    "# t.demonstrate()\n",
    "t.evaluate(n_eval_episodes=eval_count)\n"
   ]
  },
  {
   "cell_type": "code",
   "execution_count": null,
   "id": "12b51e47-4cdc-4b91-b341-16ce2331167e",
   "metadata": {},
   "outputs": [],
   "source": [
    "frame_stack_count = 4\n",
    "motion = False\n",
    "transporter = False\n",
    "\n",
    "if motion:\n",
    "    # because not more than 2 frames are used.\n",
    "    frame_stack_count = 2\n",
    "    \n",
    "t = Trainer(atari_env=atari_env, frame_stack_count=frame_stack_count, motion=motion, transporter=transporter)\n",
    "print(\"All Set\")\n",
    "t.evaluate(n_eval_episodes=eval_count)\n",
    "t.train(total_timesteps=total_timesteps)\n",
    "print(\"Done Training\")\n",
    "t.evaluate(n_eval_episodes=eval_count)\n",
    "t.save_model()\n",
    "# t.demonstrate()\n",
    "t.load_model()\n",
    "# t.demonstrate()\n",
    "t.evaluate(n_eval_episodes=eval_count)\n"
   ]
  },
  {
   "cell_type": "code",
   "execution_count": null,
   "id": "27b2c65a-4442-4670-881b-45d861325f08",
   "metadata": {},
   "outputs": [],
   "source": [
    "frame_stack_count = 2\n",
    "motion = True\n",
    "transporter = False\n",
    "\n",
    "if motion:\n",
    "    # because not more than 2 frames are used.\n",
    "    frame_stack_count = 2\n",
    "    \n",
    "t = Trainer(atari_env=atari_env, frame_stack_count=frame_stack_count, motion=motion, transporter=transporter)\n",
    "print(\"All Set\")\n",
    "t.evaluate(n_eval_episodes=eval_count)\n",
    "t.train(total_timesteps=total_timesteps)\n",
    "print(\"Done Training\")\n",
    "t.evaluate(n_eval_episodes=eval_count)\n",
    "t.save_model()\n",
    "# t.demonstrate()\n",
    "t.load_model()\n",
    "# t.demonstrate()\n",
    "t.evaluate(n_eval_episodes=eval_count)\n"
   ]
  }
 ],
 "metadata": {
  "kernelspec": {
   "display_name": "Python 3 (ipykernel)",
   "language": "python",
   "name": "python3"
  },
  "language_info": {
   "codemirror_mode": {
    "name": "ipython",
    "version": 3
   },
   "file_extension": ".py",
   "mimetype": "text/x-python",
   "name": "python",
   "nbconvert_exporter": "python",
   "pygments_lexer": "ipython3",
   "version": "3.8.12"
  }
 },
 "nbformat": 4,
 "nbformat_minor": 5
}
